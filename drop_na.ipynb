{
 "cells": [
  {
   "cell_type": "code",
   "execution_count": 7,
   "metadata": {},
   "outputs": [
    {
     "name": "stdout",
     "output_type": "stream",
     "text": [
      "   Unnamed: 0            酒店名  清洁程度  舒适程度   位置  设施/服务  员工素质  性价比  免费WiFi  \\\n",
      "0           0     上海复旦皇冠假日酒店   8.5   8.4  7.8    8.1   8.0  7.5     6.4   \n",
      "1           1      丽墅国家会展中心店   8.4   8.2  7.1    8.1   8.4  7.7     7.5   \n",
      "2           2     上海新世界丽笙大酒店   8.7   8.5  9.3    8.3   8.3  7.7     7.2   \n",
      "3           3      上海皇廷国际大酒店   8.5   8.4  7.1    8.2   8.0  7.7     7.3   \n",
      "4           4  上海浦东机场华美达广场酒店   8.2   7.9  8.5    7.6   7.4  6.6     7.5   \n",
      "\n",
      "     评论数     价格 综合评价  离中心地区距离  \n",
      "0  199.0  750.0  非常好      7.0  \n",
      "1   90.0  599.0  非常好      6.0  \n",
      "2    NaN    NaN  非常好      NaN  \n",
      "3  784.0  695.0  非常好      2.0  \n",
      "4    NaN    NaN    好      1.0  \n"
     ]
    }
   ],
   "source": [
    "import pandas as pd\n",
    "import numpy as np\n",
    "df = pd.read_csv(r'E:\\py_new_project\\test1.csv')\n",
    "print(df.head())"
   ]
  },
  {
   "cell_type": "code",
   "execution_count": 11,
   "metadata": {
    "scrolled": true
   },
   "outputs": [],
   "source": [
    "df1 = df.drop('离中心地区距离', axis=1)\n",
    "df2 = df1.dropna(axis=0)\n",
    "df2.to_csv('test2.csv')"
   ]
  },
  {
   "cell_type": "code",
   "execution_count": null,
   "metadata": {},
   "outputs": [],
   "source": []
  }
 ],
 "metadata": {
  "kernelspec": {
   "display_name": "Python 3",
   "language": "python",
   "name": "python3"
  },
  "language_info": {
   "codemirror_mode": {
    "name": "ipython",
    "version": 3
   },
   "file_extension": ".py",
   "mimetype": "text/x-python",
   "name": "python",
   "nbconvert_exporter": "python",
   "pygments_lexer": "ipython3",
   "version": "3.6.5"
  }
 },
 "nbformat": 4,
 "nbformat_minor": 2
}
